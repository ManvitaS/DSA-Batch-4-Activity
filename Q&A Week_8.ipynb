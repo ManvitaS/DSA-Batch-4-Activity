{
 "cells": [
  {
   "cell_type": "markdown",
   "id": "ba03a108",
   "metadata": {},
   "source": [
    "### Q&A Activity on Testing of Hypothesis\n",
    "1. Carry out descriptive analytics on the dataset.\n",
    "2. Check whether female and male students scored the same marks.\n",
    "3. Whether test preparation helps the students"
   ]
  },
  {
   "cell_type": "code",
   "execution_count": 1,
   "id": "943480ec",
   "metadata": {},
   "outputs": [],
   "source": [
    "import pandas as pd\n",
    "import numpy as np\n",
    "import matplotlib.pyplot as plt\n",
    "import seaborn as sns"
   ]
  },
  {
   "cell_type": "code",
   "execution_count": 2,
   "id": "d8064ee9",
   "metadata": {},
   "outputs": [
    {
     "data": {
      "text/html": [
       "<div>\n",
       "<style scoped>\n",
       "    .dataframe tbody tr th:only-of-type {\n",
       "        vertical-align: middle;\n",
       "    }\n",
       "\n",
       "    .dataframe tbody tr th {\n",
       "        vertical-align: top;\n",
       "    }\n",
       "\n",
       "    .dataframe thead th {\n",
       "        text-align: right;\n",
       "    }\n",
       "</style>\n",
       "<table border=\"1\" class=\"dataframe\">\n",
       "  <thead>\n",
       "    <tr style=\"text-align: right;\">\n",
       "      <th></th>\n",
       "      <th>Gender</th>\n",
       "      <th>Test preparation</th>\n",
       "      <th>Total Marks</th>\n",
       "    </tr>\n",
       "  </thead>\n",
       "  <tbody>\n",
       "    <tr>\n",
       "      <th>0</th>\n",
       "      <td>male</td>\n",
       "      <td>none</td>\n",
       "      <td>14</td>\n",
       "    </tr>\n",
       "    <tr>\n",
       "      <th>1</th>\n",
       "      <td>female</td>\n",
       "      <td>none</td>\n",
       "      <td>28</td>\n",
       "    </tr>\n",
       "    <tr>\n",
       "      <th>2</th>\n",
       "      <td>female</td>\n",
       "      <td>none</td>\n",
       "      <td>18</td>\n",
       "    </tr>\n",
       "    <tr>\n",
       "      <th>3</th>\n",
       "      <td>female</td>\n",
       "      <td>none</td>\n",
       "      <td>48</td>\n",
       "    </tr>\n",
       "    <tr>\n",
       "      <th>4</th>\n",
       "      <td>female</td>\n",
       "      <td>none</td>\n",
       "      <td>21</td>\n",
       "    </tr>\n",
       "    <tr>\n",
       "      <th>5</th>\n",
       "      <td>female</td>\n",
       "      <td>completed</td>\n",
       "      <td>40</td>\n",
       "    </tr>\n",
       "    <tr>\n",
       "      <th>6</th>\n",
       "      <td>male</td>\n",
       "      <td>none</td>\n",
       "      <td>30</td>\n",
       "    </tr>\n",
       "    <tr>\n",
       "      <th>7</th>\n",
       "      <td>female</td>\n",
       "      <td>none</td>\n",
       "      <td>12</td>\n",
       "    </tr>\n",
       "    <tr>\n",
       "      <th>8</th>\n",
       "      <td>male</td>\n",
       "      <td>none</td>\n",
       "      <td>18</td>\n",
       "    </tr>\n",
       "    <tr>\n",
       "      <th>9</th>\n",
       "      <td>male</td>\n",
       "      <td>none</td>\n",
       "      <td>24</td>\n",
       "    </tr>\n",
       "    <tr>\n",
       "      <th>10</th>\n",
       "      <td>male</td>\n",
       "      <td>completed</td>\n",
       "      <td>44</td>\n",
       "    </tr>\n",
       "    <tr>\n",
       "      <th>11</th>\n",
       "      <td>male</td>\n",
       "      <td>none</td>\n",
       "      <td>23</td>\n",
       "    </tr>\n",
       "    <tr>\n",
       "      <th>12</th>\n",
       "      <td>male</td>\n",
       "      <td>completed</td>\n",
       "      <td>43</td>\n",
       "    </tr>\n",
       "    <tr>\n",
       "      <th>13</th>\n",
       "      <td>male</td>\n",
       "      <td>none</td>\n",
       "      <td>28</td>\n",
       "    </tr>\n",
       "    <tr>\n",
       "      <th>14</th>\n",
       "      <td>female</td>\n",
       "      <td>none</td>\n",
       "      <td>41</td>\n",
       "    </tr>\n",
       "    <tr>\n",
       "      <th>15</th>\n",
       "      <td>female</td>\n",
       "      <td>none</td>\n",
       "      <td>13</td>\n",
       "    </tr>\n",
       "    <tr>\n",
       "      <th>16</th>\n",
       "      <td>female</td>\n",
       "      <td>completed</td>\n",
       "      <td>48</td>\n",
       "    </tr>\n",
       "    <tr>\n",
       "      <th>17</th>\n",
       "      <td>female</td>\n",
       "      <td>none</td>\n",
       "      <td>45</td>\n",
       "    </tr>\n",
       "    <tr>\n",
       "      <th>18</th>\n",
       "      <td>male</td>\n",
       "      <td>none</td>\n",
       "      <td>47</td>\n",
       "    </tr>\n",
       "    <tr>\n",
       "      <th>19</th>\n",
       "      <td>male</td>\n",
       "      <td>none</td>\n",
       "      <td>36</td>\n",
       "    </tr>\n",
       "    <tr>\n",
       "      <th>20</th>\n",
       "      <td>male</td>\n",
       "      <td>none</td>\n",
       "      <td>14</td>\n",
       "    </tr>\n",
       "    <tr>\n",
       "      <th>21</th>\n",
       "      <td>male</td>\n",
       "      <td>completed</td>\n",
       "      <td>44</td>\n",
       "    </tr>\n",
       "    <tr>\n",
       "      <th>22</th>\n",
       "      <td>female</td>\n",
       "      <td>none</td>\n",
       "      <td>41</td>\n",
       "    </tr>\n",
       "    <tr>\n",
       "      <th>23</th>\n",
       "      <td>female</td>\n",
       "      <td>none</td>\n",
       "      <td>27</td>\n",
       "    </tr>\n",
       "    <tr>\n",
       "      <th>24</th>\n",
       "      <td>female</td>\n",
       "      <td>none</td>\n",
       "      <td>27</td>\n",
       "    </tr>\n",
       "    <tr>\n",
       "      <th>25</th>\n",
       "      <td>female</td>\n",
       "      <td>none</td>\n",
       "      <td>38</td>\n",
       "    </tr>\n",
       "    <tr>\n",
       "      <th>26</th>\n",
       "      <td>female</td>\n",
       "      <td>completed</td>\n",
       "      <td>50</td>\n",
       "    </tr>\n",
       "    <tr>\n",
       "      <th>27</th>\n",
       "      <td>female</td>\n",
       "      <td>completed</td>\n",
       "      <td>43</td>\n",
       "    </tr>\n",
       "  </tbody>\n",
       "</table>\n",
       "</div>"
      ],
      "text/plain": [
       "    Gender Test preparation  Total Marks\n",
       "0     male             none           14\n",
       "1   female             none           28\n",
       "2   female             none           18\n",
       "3   female             none           48\n",
       "4   female             none           21\n",
       "5   female        completed           40\n",
       "6     male             none           30\n",
       "7   female             none           12\n",
       "8     male             none           18\n",
       "9     male             none           24\n",
       "10    male        completed           44\n",
       "11    male             none           23\n",
       "12    male        completed           43\n",
       "13    male             none           28\n",
       "14  female             none           41\n",
       "15  female             none           13\n",
       "16  female        completed           48\n",
       "17  female             none           45\n",
       "18    male             none           47\n",
       "19    male             none           36\n",
       "20    male             none           14\n",
       "21    male        completed           44\n",
       "22  female             none           41\n",
       "23  female             none           27\n",
       "24  female             none           27\n",
       "25  female             none           38\n",
       "26  female        completed           50\n",
       "27  female        completed           43"
      ]
     },
     "execution_count": 2,
     "metadata": {},
     "output_type": "execute_result"
    }
   ],
   "source": [
    "#Reading sample dataset to pandas DataFrame\n",
    "data = pd.read_csv(\"Week_8_Q&A_dataset - Sheet1.csv\")\n",
    "data"
   ]
  },
  {
   "cell_type": "markdown",
   "id": "7f1b0220",
   "metadata": {},
   "source": [
    "### 1. Carry out descriptive analytics on the dataset."
   ]
  },
  {
   "cell_type": "code",
   "execution_count": 3,
   "id": "93f8ec22",
   "metadata": {},
   "outputs": [
    {
     "name": "stdout",
     "output_type": "stream",
     "text": [
      "<class 'pandas.core.frame.DataFrame'>\n",
      "RangeIndex: 28 entries, 0 to 27\n",
      "Data columns (total 3 columns):\n",
      " #   Column            Non-Null Count  Dtype \n",
      "---  ------            --------------  ----- \n",
      " 0   Gender            28 non-null     object\n",
      " 1   Test preparation  28 non-null     object\n",
      " 2   Total Marks       28 non-null     int64 \n",
      "dtypes: int64(1), object(2)\n",
      "memory usage: 800.0+ bytes\n"
     ]
    }
   ],
   "source": [
    "#Understanding labels & features\n",
    "data.info()"
   ]
  },
  {
   "cell_type": "code",
   "execution_count": 4,
   "id": "d66a29d2",
   "metadata": {},
   "outputs": [
    {
     "data": {
      "text/html": [
       "<div>\n",
       "<style scoped>\n",
       "    .dataframe tbody tr th:only-of-type {\n",
       "        vertical-align: middle;\n",
       "    }\n",
       "\n",
       "    .dataframe tbody tr th {\n",
       "        vertical-align: top;\n",
       "    }\n",
       "\n",
       "    .dataframe thead th {\n",
       "        text-align: right;\n",
       "    }\n",
       "</style>\n",
       "<table border=\"1\" class=\"dataframe\">\n",
       "  <thead>\n",
       "    <tr style=\"text-align: right;\">\n",
       "      <th></th>\n",
       "      <th>Total Marks</th>\n",
       "    </tr>\n",
       "  </thead>\n",
       "  <tbody>\n",
       "    <tr>\n",
       "      <th>count</th>\n",
       "      <td>28.000000</td>\n",
       "    </tr>\n",
       "    <tr>\n",
       "      <th>mean</th>\n",
       "      <td>32.321429</td>\n",
       "    </tr>\n",
       "    <tr>\n",
       "      <th>std</th>\n",
       "      <td>12.454520</td>\n",
       "    </tr>\n",
       "    <tr>\n",
       "      <th>min</th>\n",
       "      <td>12.000000</td>\n",
       "    </tr>\n",
       "    <tr>\n",
       "      <th>25%</th>\n",
       "      <td>22.500000</td>\n",
       "    </tr>\n",
       "    <tr>\n",
       "      <th>50%</th>\n",
       "      <td>33.000000</td>\n",
       "    </tr>\n",
       "    <tr>\n",
       "      <th>75%</th>\n",
       "      <td>43.250000</td>\n",
       "    </tr>\n",
       "    <tr>\n",
       "      <th>max</th>\n",
       "      <td>50.000000</td>\n",
       "    </tr>\n",
       "  </tbody>\n",
       "</table>\n",
       "</div>"
      ],
      "text/plain": [
       "       Total Marks\n",
       "count    28.000000\n",
       "mean     32.321429\n",
       "std      12.454520\n",
       "min      12.000000\n",
       "25%      22.500000\n",
       "50%      33.000000\n",
       "75%      43.250000\n",
       "max      50.000000"
      ]
     },
     "execution_count": 4,
     "metadata": {},
     "output_type": "execute_result"
    }
   ],
   "source": [
    "#Statistical info about sample dataset\n",
    "data.describe()"
   ]
  },
  {
   "cell_type": "markdown",
   "id": "d555f0dd",
   "metadata": {},
   "source": [
    "**Comments:  \n",
    "Mean of sample dataset  = 32.32  \n",
    "Median of sample dataset = 33.00  \n",
    "Standard deviation = 12.45**"
   ]
  },
  {
   "cell_type": "markdown",
   "id": "ea0414ce",
   "metadata": {},
   "source": [
    "### 2. Check whether female and male students scored the same marks."
   ]
  },
  {
   "cell_type": "code",
   "execution_count": 5,
   "id": "5f02549b",
   "metadata": {},
   "outputs": [
    {
     "data": {
      "text/plain": [
       "count    12.000000\n",
       "mean     30.416667\n",
       "std      12.168950\n",
       "min      14.000000\n",
       "25%      21.750000\n",
       "50%      29.000000\n",
       "75%      43.250000\n",
       "max      47.000000\n",
       "Name: Total Marks, dtype: float64"
      ]
     },
     "execution_count": 5,
     "metadata": {},
     "output_type": "execute_result"
    }
   ],
   "source": [
    "Data_male = data[data[\"Gender\"]==\"male\"][\"Total Marks\"]\n",
    "Data_male.describe()"
   ]
  },
  {
   "cell_type": "code",
   "execution_count": 6,
   "id": "0799b6d0",
   "metadata": {},
   "outputs": [
    {
     "data": {
      "text/plain": [
       "count    16.000000\n",
       "mean     33.750000\n",
       "std      12.865976\n",
       "min      12.000000\n",
       "25%      25.500000\n",
       "50%      39.000000\n",
       "75%      43.500000\n",
       "max      50.000000\n",
       "Name: Total Marks, dtype: float64"
      ]
     },
     "execution_count": 6,
     "metadata": {},
     "output_type": "execute_result"
    }
   ],
   "source": [
    "Data_female = data[data[\"Gender\"]==\"female\"][\"Total Marks\"]\n",
    "Data_female.describe()"
   ]
  },
  {
   "cell_type": "code",
   "execution_count": 7,
   "id": "3985f677",
   "metadata": {},
   "outputs": [
    {
     "data": {
      "image/png": "[encoded data removed]",
      "text/plain": [
       "<Figure size 432x288 with 1 Axes>"
      ]
     },
     "metadata": {
      "needs_background": "light"
     },
     "output_type": "display_data"
    }
   ],
   "source": [
    "#plot bar graph\n",
    "data_1 = data.groupby(['Gender']).mean()\n",
    "data_2 = data_1.iloc[:2]\n",
    "data_2.plot(kind='bar')\n",
    "plt.xlabel(\"Gender\")\n",
    "plt.ylabel(\"Average Marks\")\n",
    "plt.title(\"Gender vs Average Marks\")\n",
    "plt.xticks(rotation=0)\n",
    "plt.show()"
   ]
  },
  {
   "cell_type": "markdown",
   "id": "458ac925",
   "metadata": {},
   "source": [
    "Comments:  \n",
    "Based on Gender, there is no significant difference in Average Marks."
   ]
  },
  {
   "cell_type": "code",
   "execution_count": 8,
   "id": "f14e4695",
   "metadata": {},
   "outputs": [],
   "source": [
    "#Defining a null hypothesis and an alternative hypothesis."
   ]
  },
  {
   "cell_type": "markdown",
   "id": "c6b1a8fb",
   "metadata": {},
   "source": [
    "µ0 = Average Marks obtained by Male Students  \n",
    "µ1 = Average Marks obtained by Female Students\n",
    "\n",
    "The null hypothesis assumes that there is no difference in the sample mean and the comparison mean.  \n",
    "Null Hypothesis: µ0 = µ1  \n",
    "Average Marks obtained by Male Students and Female Students are same.  \n",
    "\n",
    "Alternative Hypothesis: µ0 != µ1  \n",
    "Average marks obtained by Male Students and Female students are different.  \n",
    "\n",
    "The purpose of the T Test is to test if the null hypothesis can be rejected or not.  \n",
    "\n",
    "The alternative hypothesis just states the difference in means is not equal.  \n",
    "Here, there is no comparison if one of the means is greater or lesser than the other.  \n",
    "When the sample mean is not equal to the comparison mean, use Two Tailed T Test."
   ]
  },
  {
   "cell_type": "code",
   "execution_count": 9,
   "id": "344c7d8b",
   "metadata": {},
   "outputs": [],
   "source": [
    "#Confidence Interval = 95% or 0.95"
   ]
  },
  {
   "cell_type": "code",
   "execution_count": 10,
   "id": "1aa2643b",
   "metadata": {},
   "outputs": [],
   "source": [
    "#Rejection region: Level of Significance or alpha value = 5% or 0.05"
   ]
  },
  {
   "cell_type": "code",
   "execution_count": 11,
   "id": "7a8bf556",
   "metadata": {},
   "outputs": [
    {
     "name": "stdout",
     "output_type": "stream",
     "text": [
      "t Statistic:  -0.6940885268848668\n",
      "P Value:  0.4937822317960763\n"
     ]
    }
   ],
   "source": [
    "#2 Tailed 2 Sample T Test\n",
    "\n",
    "import scipy.stats as stats\n",
    "\n",
    "tscore, pval = stats.ttest_ind(Data_male, Data_female, equal_var=True, alternative='two-sided')\n",
    "\n",
    "print(\"t Statistic: \", tscore)\n",
    "\n",
    "print(\"P Value: \", pval)"
   ]
  },
  {
   "cell_type": "markdown",
   "id": "2d561396",
   "metadata": {},
   "source": [
    "Note:  \n",
    "Negative t-value shows a reversal in the directionality of the effect being studied. \n",
    "Negative values are the result of a substraction in the wrong order (smallest sample minus biggest sample).  \n",
    "We depend on p value to draw the conclusion.  \n",
    "If p value < 0.05 we reject Null Hypothesis and conclude there is significant difference between factors.  \n",
    "Otherwise no significant difference between factors."
   ]
  },
  {
   "cell_type": "code",
   "execution_count": 12,
   "id": "c1e110ee",
   "metadata": {},
   "outputs": [
    {
     "name": "stdout",
     "output_type": "stream",
     "text": [
      "Average Marks obtained by Male Students and Female Students are same\n"
     ]
    }
   ],
   "source": [
    "# for alpha value = 5% or 0.05\n",
    "if pval < 0.05:    \n",
    "   print(\"Average Marks obtained by Male Students and Female Students are different\")\n",
    "else:\n",
    "  print(\"Average Marks obtained by Male Students and Female Students are same\")"
   ]
  },
  {
   "cell_type": "markdown",
   "id": "0f58e93f",
   "metadata": {},
   "source": [
    "**Inference:  \n",
    "Null hypothesis cannot be rejected since P-value of the test is greater than alpha value.  \n",
    "P Value lies within the Confidence interval.  \n",
    "So, it can be concluded that Average marks obtained by male and female students are the same.**"
   ]
  },
  {
   "cell_type": "markdown",
   "id": "ff999f9a",
   "metadata": {},
   "source": [
    "### 3. Whether test preparation helps the students?"
   ]
  },
  {
   "cell_type": "code",
   "execution_count": 13,
   "id": "41a0025f",
   "metadata": {},
   "outputs": [
    {
     "data": {
      "text/plain": [
       "count     7.000000\n",
       "mean     44.571429\n",
       "std       3.359422\n",
       "min      40.000000\n",
       "25%      43.000000\n",
       "50%      44.000000\n",
       "75%      46.000000\n",
       "max      50.000000\n",
       "Name: Total Marks, dtype: float64"
      ]
     },
     "execution_count": 13,
     "metadata": {},
     "output_type": "execute_result"
    }
   ],
   "source": [
    "test_completed = data[data[\"Test preparation\"]==\"completed\"][\"Total Marks\"]\n",
    "test_completed.describe()"
   ]
  },
  {
   "cell_type": "code",
   "execution_count": 14,
   "id": "1954352d",
   "metadata": {},
   "outputs": [
    {
     "data": {
      "text/plain": [
       "count    21.000000\n",
       "mean     28.238095\n",
       "std      11.661495\n",
       "min      12.000000\n",
       "25%      18.000000\n",
       "50%      27.000000\n",
       "75%      38.000000\n",
       "max      48.000000\n",
       "Name: Total Marks, dtype: float64"
      ]
     },
     "execution_count": 14,
     "metadata": {},
     "output_type": "execute_result"
    }
   ],
   "source": [
    "test_none = data[data[\"Test preparation\"]==\"none\"][\"Total Marks\"]\n",
    "test_none.describe()"
   ]
  },
  {
   "cell_type": "code",
   "execution_count": 15,
   "id": "b409f5e6",
   "metadata": {},
   "outputs": [
    {
     "data": {
      "image/png": "[encoded data removed]",
      "text/plain": [
       "<Figure size 432x288 with 1 Axes>"
      ]
     },
     "metadata": {
      "needs_background": "light"
     },
     "output_type": "display_data"
    }
   ],
   "source": [
    "#plot bar graph\n",
    "data_1 = data.groupby(['Test preparation']).mean()\n",
    "data_2 = data_1.iloc[:2]\n",
    "data_2.plot(kind='bar')\n",
    "plt.xlabel(\"Test Preparation\")\n",
    "plt.ylabel(\"Average Marks\")\n",
    "plt.title(\"Test Preparation vs Average Marks\")\n",
    "plt.xticks(rotation=0)\n",
    "plt.show()"
   ]
  },
  {
   "cell_type": "markdown",
   "id": "a1d1d328",
   "metadata": {},
   "source": [
    "Comments:  \n",
    "Based on Test preparation, there is considerable difference in Average Marks."
   ]
  },
  {
   "cell_type": "code",
   "execution_count": 16,
   "id": "f00951a3",
   "metadata": {},
   "outputs": [],
   "source": [
    "#Defining a null hypothesis and an alternative hypothesis."
   ]
  },
  {
   "cell_type": "markdown",
   "id": "051fa916",
   "metadata": {},
   "source": [
    "µ0 = Average Marks obtained by Students who prepared for the test  \n",
    "µ1 = Average Marks obtained by Students who didnot prepare for the test  \n",
    "\n",
    "Null Hypothesis: µ0 = µ1  \n",
    "Average marks of students who prepared for test is same as for those who didnot prepare for test.  \n",
    "\n",
    "Alternative Hypothesis: µ0 > µ1  \n",
    "Average marks of students who prepared for test is higher than for those who didnot prepare for test."
   ]
  },
  {
   "cell_type": "markdown",
   "id": "0dac082c",
   "metadata": {},
   "source": [
    "The alternative hypothesis states the mean of the sample of interest is greater than the comparison mean.\n",
    "In such case, use Upper Tailed based test."
   ]
  },
  {
   "cell_type": "code",
   "execution_count": 17,
   "id": "481c6f0f",
   "metadata": {},
   "outputs": [],
   "source": [
    "#Confidence Interval = 95% or 0.95"
   ]
  },
  {
   "cell_type": "code",
   "execution_count": 18,
   "id": "b0931406",
   "metadata": {},
   "outputs": [],
   "source": [
    "#Rejection region: Level of Significance or alpha value = 5% or 0.05"
   ]
  },
  {
   "cell_type": "code",
   "execution_count": 25,
   "id": "e9f3bdb5",
   "metadata": {},
   "outputs": [
    {
     "name": "stdout",
     "output_type": "stream",
     "text": [
      "t Statistic:  3.6143637527769217\n",
      "P Value:  0.0006335646228660053\n"
     ]
    }
   ],
   "source": [
    "#1 tailed 2 sample t-test\n",
    "\n",
    "tscore, pval = stats.ttest_ind(test_completed, test_none, equal_var=True, alternative='greater')\n",
    "\n",
    "print(\"t Statistic: \", tscore)\n",
    "\n",
    "print(\"P Value: \", pval)"
   ]
  },
  {
   "cell_type": "code",
   "execution_count": 20,
   "id": "e50a3777",
   "metadata": {},
   "outputs": [
    {
     "name": "stdout",
     "output_type": "stream",
     "text": [
      "Test preparation helped the students\n"
     ]
    }
   ],
   "source": [
    "# for alpha value is 0.05 or 5%\n",
    "if pval < 0.05:    \n",
    "   print(\"Test preparation helped the students\")\n",
    "else:\n",
    "  print(\"Test preparation did not help the students\")"
   ]
  },
  {
   "cell_type": "markdown",
   "id": "2d30ad2a",
   "metadata": {},
   "source": [
    "**Inference:  \n",
    "Null hypothesis can be rejected since P-value of the test is less than alpha value.  \n",
    "Reject the null hypothesis of equality of the two means for the alternative hypothesis.  \n",
    "P Value lies outside the Confidence interval and within the rejection region.  \n",
    "Average marks obtained by students who completed test preparation is higher than that of the students who didnot prepare for the test.  \n",
    "So, it can be concluded that test preparation helped the students in scoring better marks.**"
   ]
  },
  {
   "cell_type": "code",
   "execution_count": null,
   "id": "3d79615a",
   "metadata": {},
   "outputs": [],
   "source": []
  }
 ],
 "metadata": {
  "kernelspec": {
   "display_name": "Python 3",
   "language": "python",
   "name": "python3"
  },
  "language_info": {
   "codemirror_mode": {
    "name": "ipython",
    "version": 3
   },
   "file_extension": ".py",
   "mimetype": "text/x-python",
   "name": "python",
   "nbconvert_exporter": "python",
   "pygments_lexer": "ipython3",
   "version": "3.8.8"
  }
 },
 "nbformat": 4,
 "nbformat_minor": 5
}

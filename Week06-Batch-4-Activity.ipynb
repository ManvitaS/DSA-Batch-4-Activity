{
 "cells": [
  {
   "cell_type": "code",
   "execution_count": 1,
   "id": "d09b8971",
   "metadata": {},
   "outputs": [
    {
     "data": {
      "text/html": [
       "<div>\n",
       "<style scoped>\n",
       "    .dataframe tbody tr th:only-of-type {\n",
       "        vertical-align: middle;\n",
       "    }\n",
       "\n",
       "    .dataframe tbody tr th {\n",
       "        vertical-align: top;\n",
       "    }\n",
       "\n",
       "    .dataframe thead th {\n",
       "        text-align: right;\n",
       "    }\n",
       "</style>\n",
       "<table border=\"1\" class=\"dataframe\">\n",
       "  <thead>\n",
       "    <tr style=\"text-align: right;\">\n",
       "      <th></th>\n",
       "      <th>country</th>\n",
       "      <th>Region</th>\n",
       "      <th>Surface area (km2)</th>\n",
       "      <th>Population in thousands (2017)</th>\n",
       "      <th>GDP per capita (current US$)</th>\n",
       "      <th>Agricultural production index</th>\n",
       "      <th>International trade: Imports (million US$)</th>\n",
       "    </tr>\n",
       "  </thead>\n",
       "  <tbody>\n",
       "    <tr>\n",
       "      <th>0</th>\n",
       "      <td>Afghanistan</td>\n",
       "      <td>SouthernAsia</td>\n",
       "      <td>652864.0</td>\n",
       "      <td>35530.0</td>\n",
       "      <td>623.200000</td>\n",
       "      <td>125.0</td>\n",
       "      <td>3568.0</td>\n",
       "    </tr>\n",
       "    <tr>\n",
       "      <th>1</th>\n",
       "      <td>Albania</td>\n",
       "      <td>SouthernEurope</td>\n",
       "      <td>28748.0</td>\n",
       "      <td>2930.0</td>\n",
       "      <td>3984.200000</td>\n",
       "      <td>134.0</td>\n",
       "      <td>4669.0</td>\n",
       "    </tr>\n",
       "    <tr>\n",
       "      <th>2</th>\n",
       "      <td>Algeria</td>\n",
       "      <td>NorthernAfrica</td>\n",
       "      <td>2381741.0</td>\n",
       "      <td>41318.0</td>\n",
       "      <td>4154.100000</td>\n",
       "      <td>160.0</td>\n",
       "      <td>47091.0</td>\n",
       "    </tr>\n",
       "    <tr>\n",
       "      <th>3</th>\n",
       "      <td>Angola</td>\n",
       "      <td>MiddleAfrica</td>\n",
       "      <td>1246700.0</td>\n",
       "      <td>29784.0</td>\n",
       "      <td>4714.100000</td>\n",
       "      <td>175.0</td>\n",
       "      <td>8790.0</td>\n",
       "    </tr>\n",
       "    <tr>\n",
       "      <th>4</th>\n",
       "      <td>Antigua and Barbuda</td>\n",
       "      <td>Caribbean</td>\n",
       "      <td>442.0</td>\n",
       "      <td>102.0</td>\n",
       "      <td>14764.500000</td>\n",
       "      <td>88.0</td>\n",
       "      <td>491.0</td>\n",
       "    </tr>\n",
       "    <tr>\n",
       "      <th>...</th>\n",
       "      <td>...</td>\n",
       "      <td>...</td>\n",
       "      <td>...</td>\n",
       "      <td>...</td>\n",
       "      <td>...</td>\n",
       "      <td>...</td>\n",
       "      <td>...</td>\n",
       "    </tr>\n",
       "    <tr>\n",
       "      <th>192</th>\n",
       "      <td>Viet Nam</td>\n",
       "      <td>South-easternAsia</td>\n",
       "      <td>330967.0</td>\n",
       "      <td>95541.0</td>\n",
       "      <td>2067.900000</td>\n",
       "      <td>136.0</td>\n",
       "      <td>174111.0</td>\n",
       "    </tr>\n",
       "    <tr>\n",
       "      <th>193</th>\n",
       "      <td>Yemen</td>\n",
       "      <td>WesternAsia</td>\n",
       "      <td>527968.0</td>\n",
       "      <td>28250.0</td>\n",
       "      <td>1106.400000</td>\n",
       "      <td>136.0</td>\n",
       "      <td>6861.0</td>\n",
       "    </tr>\n",
       "    <tr>\n",
       "      <th>194</th>\n",
       "      <td>Zambia</td>\n",
       "      <td>EasternAfrica</td>\n",
       "      <td>752612.0</td>\n",
       "      <td>17094.0</td>\n",
       "      <td>1311.100000</td>\n",
       "      <td>179.0</td>\n",
       "      <td>7442.0</td>\n",
       "    </tr>\n",
       "    <tr>\n",
       "      <th>195</th>\n",
       "      <td>Zimbabwe</td>\n",
       "      <td>EasternAfrica</td>\n",
       "      <td>390757.0</td>\n",
       "      <td>16530.0</td>\n",
       "      <td>890.400000</td>\n",
       "      <td>99.0</td>\n",
       "      <td>5212.0</td>\n",
       "    </tr>\n",
       "    <tr>\n",
       "      <th>196</th>\n",
       "      <td>NaN</td>\n",
       "      <td>NaN</td>\n",
       "      <td>NaN</td>\n",
       "      <td>NaN</td>\n",
       "      <td>18995.593914</td>\n",
       "      <td>NaN</td>\n",
       "      <td>NaN</td>\n",
       "    </tr>\n",
       "  </tbody>\n",
       "</table>\n",
       "<p>197 rows × 7 columns</p>\n",
       "</div>"
      ],
      "text/plain": [
       "                 country             Region  Surface area (km2)  \\\n",
       "0            Afghanistan       SouthernAsia            652864.0   \n",
       "1                Albania     SouthernEurope             28748.0   \n",
       "2                Algeria     NorthernAfrica           2381741.0   \n",
       "3                 Angola       MiddleAfrica           1246700.0   \n",
       "4    Antigua and Barbuda          Caribbean               442.0   \n",
       "..                   ...                ...                 ...   \n",
       "192             Viet Nam  South-easternAsia            330967.0   \n",
       "193                Yemen        WesternAsia            527968.0   \n",
       "194               Zambia      EasternAfrica            752612.0   \n",
       "195             Zimbabwe      EasternAfrica            390757.0   \n",
       "196                  NaN                NaN                 NaN   \n",
       "\n",
       "     Population in thousands (2017)  GDP per capita (current US$)  \\\n",
       "0                           35530.0                    623.200000   \n",
       "1                            2930.0                   3984.200000   \n",
       "2                           41318.0                   4154.100000   \n",
       "3                           29784.0                   4714.100000   \n",
       "4                             102.0                  14764.500000   \n",
       "..                              ...                           ...   \n",
       "192                         95541.0                   2067.900000   \n",
       "193                         28250.0                   1106.400000   \n",
       "194                         17094.0                   1311.100000   \n",
       "195                         16530.0                    890.400000   \n",
       "196                             NaN                  18995.593914   \n",
       "\n",
       "     Agricultural production index   \\\n",
       "0                             125.0   \n",
       "1                             134.0   \n",
       "2                             160.0   \n",
       "3                             175.0   \n",
       "4                              88.0   \n",
       "..                              ...   \n",
       "192                           136.0   \n",
       "193                           136.0   \n",
       "194                           179.0   \n",
       "195                            99.0   \n",
       "196                             NaN   \n",
       "\n",
       "     International trade: Imports (million US$)  \n",
       "0                                        3568.0  \n",
       "1                                        4669.0  \n",
       "2                                       47091.0  \n",
       "3                                        8790.0  \n",
       "4                                         491.0  \n",
       "..                                          ...  \n",
       "192                                    174111.0  \n",
       "193                                      6861.0  \n",
       "194                                      7442.0  \n",
       "195                                      5212.0  \n",
       "196                                         NaN  \n",
       "\n",
       "[197 rows x 7 columns]"
      ]
     },
     "execution_count": 1,
     "metadata": {},
     "output_type": "execute_result"
    }
   ],
   "source": [
    "import numpy as np\n",
    "import pandas as pd\n",
    "\n",
    "data = pd.read_excel('Dataset_w6.xlsx')\n",
    "data"
   ]
  },
  {
   "cell_type": "markdown",
   "id": "1847fb93",
   "metadata": {},
   "source": [
    "1.Find out how many countries are there in the dataset."
   ]
  },
  {
   "cell_type": "code",
   "execution_count": 2,
   "id": "ace8ab18",
   "metadata": {},
   "outputs": [
    {
     "name": "stdout",
     "output_type": "stream",
     "text": [
      "Total no. of countries is :  196\n"
     ]
    }
   ],
   "source": [
    "countries = data['country'].count()\n",
    "print('Total no. of countries is : ',countries)"
   ]
  },
  {
   "cell_type": "markdown",
   "id": "01914b68",
   "metadata": {},
   "source": [
    "2.Find out how many countries with respect to the region are available in the dataset"
   ]
  },
  {
   "cell_type": "code",
   "execution_count": 3,
   "id": "35a9b21a",
   "metadata": {},
   "outputs": [
    {
     "name": "stdout",
     "output_type": "stream",
     "text": [
      "No. of countries in each region is as below:\n"
     ]
    },
    {
     "data": {
      "text/plain": [
       "Region\n",
       "Caribbean            16\n",
       "CentralAmerica        8\n",
       "CentralAsia           5\n",
       "EasternAfrica        17\n",
       "EasternAsia           7\n",
       "EasternEurope        10\n",
       "Melanesia             5\n",
       "Micronesia            4\n",
       "MiddleAfrica          9\n",
       "NorthernAfrica        5\n",
       "NorthernAmerica       4\n",
       "NorthernEurope       10\n",
       "Oceania               2\n",
       "Polynesia             5\n",
       "South-easternAsia    11\n",
       "SouthAmerica         12\n",
       "SouthernAfrica        5\n",
       "SouthernAsia          9\n",
       "SouthernEurope       12\n",
       "WesternAfrica        15\n",
       "WesternAsia          18\n",
       "WesternEurope         7\n",
       "Name: country, dtype: int64"
      ]
     },
     "execution_count": 3,
     "metadata": {},
     "output_type": "execute_result"
    }
   ],
   "source": [
    "region = data.groupby('Region')['country'].count()\n",
    "print('No. of countries in each region is as below:')\n",
    "region"
   ]
  },
  {
   "cell_type": "markdown",
   "id": "b94bfb34",
   "metadata": {},
   "source": [
    "3.On average which region has the highest\n",
    "a.GDP per capita (current US$)"
   ]
  },
  {
   "cell_type": "code",
   "execution_count": 4,
   "id": "aab7449b",
   "metadata": {},
   "outputs": [
    {
     "name": "stdout",
     "output_type": "stream",
     "text": [
      "Country with Highest average GDP is:  NorthernAmerica and avg GDP is: $ 57659.0\n"
     ]
    }
   ],
   "source": [
    "GDP = data.groupby('Region')['GDP per capita (current US$)'].mean()\n",
    "print(\"Country with Highest average GDP is: \",GDP.idxmax(),\"and avg GDP is: $\",GDP.max())"
   ]
  },
  {
   "cell_type": "markdown",
   "id": "3a46af29",
   "metadata": {},
   "source": [
    "b.International trade: Imports (million US$)"
   ]
  },
  {
   "cell_type": "code",
   "execution_count": 5,
   "id": "532157e1",
   "metadata": {},
   "outputs": [
    {
     "name": "stdout",
     "output_type": "stream",
     "text": [
      "Country with Highest average Int trade imports is: NorthernAmerica and value is: $ 663552.25\n"
     ]
    }
   ],
   "source": [
    "Trade_Imports = data.groupby('Region')['International trade: Imports (million US$)'].mean()\n",
    "print(\"Country with Highest average Int trade imports is:\",Trade_Imports.idxmax(),\"and value is: $\",Trade_Imports.max())"
   ]
  },
  {
   "cell_type": "markdown",
   "id": "c7b4fb73",
   "metadata": {},
   "source": [
    "4.Find out which region has more consistent with respect to GDP per capita (current US$)"
   ]
  },
  {
   "cell_type": "code",
   "execution_count": 6,
   "id": "f86741b6",
   "metadata": {},
   "outputs": [
    {
     "name": "stdout",
     "output_type": "stream",
     "text": [
      "Region with More consistent GDP:  WesternAfrica = 815.0953991492564\n"
     ]
    }
   ],
   "source": [
    "GDP_SD = data.groupby('Region')['GDP per capita (current US$)'].std()\n",
    "print('Region with More consistent GDP: ',GDP_SD.idxmin() ,'=',GDP_SD.min())"
   ]
  },
  {
   "cell_type": "markdown",
   "id": "d5dcc048",
   "metadata": {},
   "source": [
    "INSIGHTS :- \n",
    "* NorthernAmerica is the Region having the highest average GDP per capita and \n",
    "   highest average International trade imports.\n",
    "* Region with the least Standard Deviation has the most consistent GDP per capita\n",
    "   and it is WesternAfrica."
   ]
  }
 ],
 "metadata": {
  "kernelspec": {
   "display_name": "Python 3",
   "language": "python",
   "name": "python3"
  },
  "language_info": {
   "codemirror_mode": {
    "name": "ipython",
    "version": 3
   },
   "file_extension": ".py",
   "mimetype": "text/x-python",
   "name": "python",
   "nbconvert_exporter": "python",
   "pygments_lexer": "ipython3",
   "version": "3.8.8"
  }
 },
 "nbformat": 4,
 "nbformat_minor": 5
}
